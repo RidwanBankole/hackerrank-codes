{
 "cells": [
  {
   "cell_type": "code",
   "execution_count": 2,
   "id": "12ed99e3",
   "metadata": {},
   "outputs": [],
   "source": [
    "arr = ['bgfdf', 'ghsqa', 'xsdqw', 'sfrhk', 'kliop']"
   ]
  },
  {
   "cell_type": "code",
   "execution_count": 13,
   "id": "29c4e977",
   "metadata": {},
   "outputs": [],
   "source": [
    "def check_array(arr):\n",
    "    arr = list(map(lambda x: sorted(x), arr))\n",
    "    for col in range(len(arr[0])):\n",
    "        for row in range(1, len(arr)):\n",
    "            if arr[row][col] < arr[row-1][col]:\n",
    "                return 'NO'\n",
    "    return 'YES'"
   ]
  },
  {
   "cell_type": "code",
   "execution_count": 18,
   "id": "76877c4c",
   "metadata": {},
   "outputs": [
    {
     "data": {
      "text/plain": [
       "'NO'"
      ]
     },
     "execution_count": 18,
     "metadata": {},
     "output_type": "execute_result"
    }
   ],
   "source": [
    "arr = ['abcd', 'efgz', 'ijkl', 'qnop']\n",
    "check_array(arr)"
   ]
  },
  {
   "cell_type": "code",
   "execution_count": 4,
   "id": "cf7a1106",
   "metadata": {},
   "outputs": [
    {
     "data": {
      "text/plain": [
       "[['b', 'd', 'f', 'f', 'g'],\n",
       " ['a', 'g', 'h', 'q', 's'],\n",
       " ['d', 'q', 's', 'w', 'x'],\n",
       " ['f', 'h', 'k', 'r', 's'],\n",
       " ['i', 'k', 'l', 'o', 'p']]"
      ]
     },
     "execution_count": 4,
     "metadata": {},
     "output_type": "execute_result"
    }
   ],
   "source": [
    "arr"
   ]
  },
  {
   "cell_type": "code",
   "execution_count": 21,
   "id": "85e939d3",
   "metadata": {},
   "outputs": [
    {
     "data": {
      "text/plain": [
       "'0b101'"
      ]
     },
     "execution_count": 21,
     "metadata": {},
     "output_type": "execute_result"
    }
   ],
   "source": [
    "bin(5)"
   ]
  },
  {
   "cell_type": "code",
   "execution_count": null,
   "id": "8d9e0366",
   "metadata": {},
   "outputs": [],
   "source": []
  }
 ],
 "metadata": {
  "kernelspec": {
   "display_name": "Python 3 (ipykernel)",
   "language": "python",
   "name": "python3"
  },
  "language_info": {
   "codemirror_mode": {
    "name": "ipython",
    "version": 3
   },
   "file_extension": ".py",
   "mimetype": "text/x-python",
   "name": "python",
   "nbconvert_exporter": "python",
   "pygments_lexer": "ipython3",
   "version": "3.11.4"
  }
 },
 "nbformat": 4,
 "nbformat_minor": 5
}
